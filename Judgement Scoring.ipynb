{
 "cells": [
  {
   "cell_type": "code",
   "execution_count": 1,
   "metadata": {
    "collapsed": true
   },
   "outputs": [],
   "source": [
    "import pandas as pd"
   ]
  },
  {
   "cell_type": "code",
   "execution_count": 57,
   "outputs": [
    {
     "name": "stderr",
     "output_type": "stream",
     "text": [
      "C:\\Users\\Ian\\Anaconda3\\lib\\site-packages\\IPython\\core\\interactiveshell.py:3063: DtypeWarning: Columns (1,2,3,4,5,6,7) have mixed types.Specify dtype option on import or set low_memory=False.\n",
      "  interactivity=interactivity, compiler=compiler, result=result)\n"
     ]
    }
   ],
   "source": [
    "x = pd.read_csv(\"C:/Users/Ian/Box Sync/Internal/Internal Initiatives/SIOP ML Competition 2020/Data/TrainingData.csv\")"
   ],
   "metadata": {
    "collapsed": false,
    "pycharm": {
     "name": "#%%\n"
    }
   }
  },
  {
   "cell_type": "code",
   "execution_count": 52,
   "outputs": [],
   "source": [
    "def scorer(x, best, worst):\n",
    "    if x == best:\n",
    "        return 1\n",
    "    if x == worst:\n",
    "        return -1\n",
    "    else:\n",
    "        return 0"
   ],
   "metadata": {
    "collapsed": false,
    "pycharm": {
     "name": "#%%\n"
    }
   }
  },
  {
   "cell_type": "code",
   "execution_count": 53,
   "outputs": [],
   "source": [
    "def judgementScoring(sjItem, raw):\n",
    "    df = raw[sjItem]\n",
    "    counts = pd.DataFrame(df.value_counts())\n",
    "    df = pd.DataFrame(df)\n",
    "    counts = counts.reset_index()\n",
    "    best = counts.iloc[0][0]\n",
    "    worst = counts.iloc[-1][0]\n",
    "    df['{}_score'.format(sjItem)] = df[sjItem].apply(lambda x: scorer(x, best, worst))\n",
    "    return df['{}_score'.format(sjItem)]"
   ],
   "metadata": {
    "collapsed": false,
    "pycharm": {
     "name": "#%%\n"
    }
   }
  },
  {
   "cell_type": "code",
   "execution_count": 60,
   "outputs": [
    {
     "name": "stdout",
     "output_type": "stream",
     "text": [
      "  SJ_Most_1 SJ_Most_2 SJ_Most_3 SJ_Most_4 SJ_Most_5 SJ_Most_6 SJ_Most_7  \\\n",
      "0         3         3         1         1         2         2         4   \n",
      "1         3         3         1         1         2         3         1   \n",
      "2         2         1         1         1         1         2         1   \n",
      "3         2         1         1         1         2         4         1   \n",
      "4         3         3         1         2         2         2         1   \n",
      "\n",
      "  SJ_Most_8 SJ_Most_9  \n",
      "0         1         1  \n",
      "1         1         2  \n",
      "2         1         1  \n",
      "3         2         3  \n",
      "4         1         1  \n"
     ]
    }
   ],
   "source": [
    "mosts = x.filter(regex=\"SJ_Most.*\", axis=1)"
   ],
   "metadata": {
    "collapsed": false,
    "pycharm": {
     "name": "#%%\n"
    }
   }
  },
  {
   "cell_type": "code",
   "execution_count": 61,
   "outputs": [],
   "source": [
    "for column in list(mosts.columns):\n",
    "    df1 = pd.DataFrame(judgementScoring(column, mosts))\n",
    "    if list(mosts.columns).index(column) == 0:\n",
    "        out = df1\n",
    "    else:\n",
    "        out = out.join(df1)"
   ],
   "metadata": {
    "collapsed": false,
    "pycharm": {
     "name": "#%%\n"
    }
   }
  },
  {
   "cell_type": "code",
   "execution_count": 62,
   "outputs": [
    {
     "data": {
      "text/plain": "       SJ_Most_1_score  SJ_Most_2_score  SJ_Most_3_score  SJ_Most_4_score  \\\n0                    1                1                1                1   \n1                    1                1                1                1   \n2                    0                0                1                1   \n3                    0                0                1                1   \n4                    1                1                1                0   \n...                ...              ...              ...              ...   \n44097                1                1                1                0   \n44098                1                1                1                0   \n44099                1                1                1                1   \n44100                0                1                1                1   \n44101               -1                0               -1               -1   \n\n       SJ_Most_5_score  SJ_Most_6_score  SJ_Most_7_score  SJ_Most_8_score  \\\n0                    1                0                0                1   \n1                    1                1                1                1   \n2                    0                0                1                1   \n3                    1                0                1                0   \n4                    1                0                1                1   \n...                ...              ...              ...              ...   \n44097                1                0                0                0   \n44098                1                0                1                1   \n44099                1                1                1                1   \n44100                1                0                1                0   \n44101               -1               -1               -1               -1   \n\n       SJ_Most_9_score  \n0                    0  \n1                    1  \n2                    0  \n3                    0  \n4                    0  \n...                ...  \n44097                0  \n44098                0  \n44099                0  \n44100                0  \n44101               -1  \n\n[44102 rows x 9 columns]",
      "text/html": "<div>\n<style scoped>\n    .dataframe tbody tr th:only-of-type {\n        vertical-align: middle;\n    }\n\n    .dataframe tbody tr th {\n        vertical-align: top;\n    }\n\n    .dataframe thead th {\n        text-align: right;\n    }\n</style>\n<table border=\"1\" class=\"dataframe\">\n  <thead>\n    <tr style=\"text-align: right;\">\n      <th></th>\n      <th>SJ_Most_1_score</th>\n      <th>SJ_Most_2_score</th>\n      <th>SJ_Most_3_score</th>\n      <th>SJ_Most_4_score</th>\n      <th>SJ_Most_5_score</th>\n      <th>SJ_Most_6_score</th>\n      <th>SJ_Most_7_score</th>\n      <th>SJ_Most_8_score</th>\n      <th>SJ_Most_9_score</th>\n    </tr>\n  </thead>\n  <tbody>\n    <tr>\n      <th>0</th>\n      <td>1</td>\n      <td>1</td>\n      <td>1</td>\n      <td>1</td>\n      <td>1</td>\n      <td>0</td>\n      <td>0</td>\n      <td>1</td>\n      <td>0</td>\n    </tr>\n    <tr>\n      <th>1</th>\n      <td>1</td>\n      <td>1</td>\n      <td>1</td>\n      <td>1</td>\n      <td>1</td>\n      <td>1</td>\n      <td>1</td>\n      <td>1</td>\n      <td>1</td>\n    </tr>\n    <tr>\n      <th>2</th>\n      <td>0</td>\n      <td>0</td>\n      <td>1</td>\n      <td>1</td>\n      <td>0</td>\n      <td>0</td>\n      <td>1</td>\n      <td>1</td>\n      <td>0</td>\n    </tr>\n    <tr>\n      <th>3</th>\n      <td>0</td>\n      <td>0</td>\n      <td>1</td>\n      <td>1</td>\n      <td>1</td>\n      <td>0</td>\n      <td>1</td>\n      <td>0</td>\n      <td>0</td>\n    </tr>\n    <tr>\n      <th>4</th>\n      <td>1</td>\n      <td>1</td>\n      <td>1</td>\n      <td>0</td>\n      <td>1</td>\n      <td>0</td>\n      <td>1</td>\n      <td>1</td>\n      <td>0</td>\n    </tr>\n    <tr>\n      <th>...</th>\n      <td>...</td>\n      <td>...</td>\n      <td>...</td>\n      <td>...</td>\n      <td>...</td>\n      <td>...</td>\n      <td>...</td>\n      <td>...</td>\n      <td>...</td>\n    </tr>\n    <tr>\n      <th>44097</th>\n      <td>1</td>\n      <td>1</td>\n      <td>1</td>\n      <td>0</td>\n      <td>1</td>\n      <td>0</td>\n      <td>0</td>\n      <td>0</td>\n      <td>0</td>\n    </tr>\n    <tr>\n      <th>44098</th>\n      <td>1</td>\n      <td>1</td>\n      <td>1</td>\n      <td>0</td>\n      <td>1</td>\n      <td>0</td>\n      <td>1</td>\n      <td>1</td>\n      <td>0</td>\n    </tr>\n    <tr>\n      <th>44099</th>\n      <td>1</td>\n      <td>1</td>\n      <td>1</td>\n      <td>1</td>\n      <td>1</td>\n      <td>1</td>\n      <td>1</td>\n      <td>1</td>\n      <td>0</td>\n    </tr>\n    <tr>\n      <th>44100</th>\n      <td>0</td>\n      <td>1</td>\n      <td>1</td>\n      <td>1</td>\n      <td>1</td>\n      <td>0</td>\n      <td>1</td>\n      <td>0</td>\n      <td>0</td>\n    </tr>\n    <tr>\n      <th>44101</th>\n      <td>-1</td>\n      <td>0</td>\n      <td>-1</td>\n      <td>-1</td>\n      <td>-1</td>\n      <td>-1</td>\n      <td>-1</td>\n      <td>-1</td>\n      <td>-1</td>\n    </tr>\n  </tbody>\n</table>\n<p>44102 rows × 9 columns</p>\n</div>"
     },
     "execution_count": 62,
     "metadata": {},
     "output_type": "execute_result"
    }
   ],
   "source": [
    "out"
   ],
   "metadata": {
    "collapsed": false,
    "pycharm": {
     "name": "#%%\n"
    }
   }
  }
 ],
 "metadata": {
  "kernelspec": {
   "name": "pycharm-79f9137c",
   "language": "python",
   "display_name": "PyCharm (2 - Work in Process)"
  },
  "language_info": {
   "codemirror_mode": {
    "name": "ipython",
    "version": 2
   },
   "file_extension": ".py",
   "mimetype": "text/x-python",
   "name": "python",
   "nbconvert_exporter": "python",
   "pygments_lexer": "ipython2",
   "version": "2.7.6"
  }
 },
 "nbformat": 4,
 "nbformat_minor": 0
}