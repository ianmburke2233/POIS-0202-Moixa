{
 "cells": [
  {
   "cell_type": "code",
   "execution_count": 37,
   "metadata": {
    "collapsed": true
   },
   "outputs": [],
   "source": [
    "import pandas as pd\n",
    "import numpy as np\n",
    "import matplotlib.pyplot as plt"
   ]
  },
  {
   "cell_type": "code",
   "execution_count": 49,
   "outputs": [],
   "source": [
    "%matplotlib inline\n",
    "plt.rcParams[\"figure.figsize\"] = [10, 5]"
   ],
   "metadata": {
    "collapsed": false,
    "pycharm": {
     "name": "#%%\n"
    }
   }
  },
  {
   "cell_type": "code",
   "execution_count": 29,
   "outputs": [],
   "source": [
    "dev_data = pd.read_csv('../Data/DevelopmentData.csv')\n",
    "test_data = pd.read_csv('../Data/participant_test.csv', dtype=float)"
   ],
   "metadata": {
    "collapsed": false,
    "pycharm": {
     "name": "#%%\n"
    }
   }
  },
  {
   "cell_type": "code",
   "execution_count": 30,
   "outputs": [],
   "source": [
    "dev_data_summary = dev_data.describe().T\n",
    "test_data_summary = test_data.describe().T"
   ],
   "metadata": {
    "collapsed": false,
    "pycharm": {
     "name": "#%%\n"
    }
   }
  },
  {
   "cell_type": "code",
   "execution_count": 31,
   "outputs": [
    {
     "data": {
      "text/plain": "              count          mean           std          min           25%  \\\nUNIQUE_ID    2250.0  2.411465e+08  1.956179e+07  120075759.0  2.450111e+08   \nSJ_Most_1    2198.0  2.591447e+00  7.393976e-01          1.0  2.000000e+00   \nSJ_Least_1   2198.0  2.564149e+00  1.341277e+00          1.0  1.000000e+00   \nSJ_Time_1    2198.0  7.481074e+01  1.882393e+02          2.0  3.925000e+01   \nSJ_Most_2    2197.0  2.702777e+00  8.554212e-01          1.0  3.000000e+00   \n...             ...           ...           ...          ...           ...   \nPScale13_Q1  2198.0  1.539581e+00  7.445925e-01          1.0  1.000000e+00   \nPScale13_Q2  2201.0  1.341209e+00  6.434115e-01          1.0  1.000000e+00   \nPScale13_Q3  2202.0  3.594914e+00  6.620302e-01          1.0  3.000000e+00   \nPScale13_Q4  2193.0  3.002736e+00  7.974594e-01          1.0  3.000000e+00   \nPScale13_Q5  2191.0  2.296212e+00  1.036494e+00          1.0  1.000000e+00   \n\n                     50%           75%          max  \nUNIQUE_ID    245101490.0  2.451663e+08  245278411.0  \nSJ_Most_1            3.0  3.000000e+00          4.0  \nSJ_Least_1           2.0  4.000000e+00          4.0  \nSJ_Time_1           55.0  8.100000e+01       7155.0  \nSJ_Most_2            3.0  3.000000e+00          4.0  \n...                  ...           ...          ...  \nPScale13_Q1          1.0  2.000000e+00          4.0  \nPScale13_Q2          1.0  2.000000e+00          4.0  \nPScale13_Q3          4.0  4.000000e+00          4.0  \nPScale13_Q4          3.0  4.000000e+00          4.0  \nPScale13_Q5          2.0  3.000000e+00          4.0  \n\n[121 rows x 8 columns]",
      "text/html": "<div>\n<style scoped>\n    .dataframe tbody tr th:only-of-type {\n        vertical-align: middle;\n    }\n\n    .dataframe tbody tr th {\n        vertical-align: top;\n    }\n\n    .dataframe thead th {\n        text-align: right;\n    }\n</style>\n<table border=\"1\" class=\"dataframe\">\n  <thead>\n    <tr style=\"text-align: right;\">\n      <th></th>\n      <th>count</th>\n      <th>mean</th>\n      <th>std</th>\n      <th>min</th>\n      <th>25%</th>\n      <th>50%</th>\n      <th>75%</th>\n      <th>max</th>\n    </tr>\n  </thead>\n  <tbody>\n    <tr>\n      <th>UNIQUE_ID</th>\n      <td>2250.0</td>\n      <td>2.411465e+08</td>\n      <td>1.956179e+07</td>\n      <td>120075759.0</td>\n      <td>2.450111e+08</td>\n      <td>245101490.0</td>\n      <td>2.451663e+08</td>\n      <td>245278411.0</td>\n    </tr>\n    <tr>\n      <th>SJ_Most_1</th>\n      <td>2198.0</td>\n      <td>2.591447e+00</td>\n      <td>7.393976e-01</td>\n      <td>1.0</td>\n      <td>2.000000e+00</td>\n      <td>3.0</td>\n      <td>3.000000e+00</td>\n      <td>4.0</td>\n    </tr>\n    <tr>\n      <th>SJ_Least_1</th>\n      <td>2198.0</td>\n      <td>2.564149e+00</td>\n      <td>1.341277e+00</td>\n      <td>1.0</td>\n      <td>1.000000e+00</td>\n      <td>2.0</td>\n      <td>4.000000e+00</td>\n      <td>4.0</td>\n    </tr>\n    <tr>\n      <th>SJ_Time_1</th>\n      <td>2198.0</td>\n      <td>7.481074e+01</td>\n      <td>1.882393e+02</td>\n      <td>2.0</td>\n      <td>3.925000e+01</td>\n      <td>55.0</td>\n      <td>8.100000e+01</td>\n      <td>7155.0</td>\n    </tr>\n    <tr>\n      <th>SJ_Most_2</th>\n      <td>2197.0</td>\n      <td>2.702777e+00</td>\n      <td>8.554212e-01</td>\n      <td>1.0</td>\n      <td>3.000000e+00</td>\n      <td>3.0</td>\n      <td>3.000000e+00</td>\n      <td>4.0</td>\n    </tr>\n    <tr>\n      <th>...</th>\n      <td>...</td>\n      <td>...</td>\n      <td>...</td>\n      <td>...</td>\n      <td>...</td>\n      <td>...</td>\n      <td>...</td>\n      <td>...</td>\n    </tr>\n    <tr>\n      <th>PScale13_Q1</th>\n      <td>2198.0</td>\n      <td>1.539581e+00</td>\n      <td>7.445925e-01</td>\n      <td>1.0</td>\n      <td>1.000000e+00</td>\n      <td>1.0</td>\n      <td>2.000000e+00</td>\n      <td>4.0</td>\n    </tr>\n    <tr>\n      <th>PScale13_Q2</th>\n      <td>2201.0</td>\n      <td>1.341209e+00</td>\n      <td>6.434115e-01</td>\n      <td>1.0</td>\n      <td>1.000000e+00</td>\n      <td>1.0</td>\n      <td>2.000000e+00</td>\n      <td>4.0</td>\n    </tr>\n    <tr>\n      <th>PScale13_Q3</th>\n      <td>2202.0</td>\n      <td>3.594914e+00</td>\n      <td>6.620302e-01</td>\n      <td>1.0</td>\n      <td>3.000000e+00</td>\n      <td>4.0</td>\n      <td>4.000000e+00</td>\n      <td>4.0</td>\n    </tr>\n    <tr>\n      <th>PScale13_Q4</th>\n      <td>2193.0</td>\n      <td>3.002736e+00</td>\n      <td>7.974594e-01</td>\n      <td>1.0</td>\n      <td>3.000000e+00</td>\n      <td>3.0</td>\n      <td>4.000000e+00</td>\n      <td>4.0</td>\n    </tr>\n    <tr>\n      <th>PScale13_Q5</th>\n      <td>2191.0</td>\n      <td>2.296212e+00</td>\n      <td>1.036494e+00</td>\n      <td>1.0</td>\n      <td>1.000000e+00</td>\n      <td>2.0</td>\n      <td>3.000000e+00</td>\n      <td>4.0</td>\n    </tr>\n  </tbody>\n</table>\n<p>121 rows × 8 columns</p>\n</div>"
     },
     "execution_count": 31,
     "metadata": {},
     "output_type": "execute_result"
    }
   ],
   "source": [
    "dev_data_summary\n"
   ],
   "metadata": {
    "collapsed": false,
    "pycharm": {
     "name": "#%%\n"
    }
   }
  },
  {
   "cell_type": "code",
   "execution_count": 32,
   "outputs": [
    {
     "data": {
      "text/plain": "              count          mean           std          min           25%  \\\nUNIQUE_ID    2250.0  2.415150e+08  1.852384e+07  119744050.0  2.450026e+08   \nSJ_Most_1    2177.0  2.649058e+00  6.879613e-01          1.0  2.000000e+00   \nSJ_Least_1   2177.0  2.571888e+00  1.348167e+00          1.0  1.000000e+00   \nSJ_Time_1    2177.0  7.155857e+01  6.762152e+01          2.0  4.000000e+01   \nSJ_Most_2    2175.0  2.694713e+00  8.603740e-01          1.0  3.000000e+00   \n...             ...           ...           ...          ...           ...   \nPScale13_Q1  2170.0  1.568664e+00  7.819627e-01          1.0  1.000000e+00   \nPScale13_Q2  2172.0  1.343462e+00  6.344106e-01          1.0  1.000000e+00   \nPScale13_Q3  2170.0  3.576959e+00  6.869823e-01          1.0  3.000000e+00   \nPScale13_Q4  2176.0  3.038143e+00  7.736565e-01          1.0  3.000000e+00   \nPScale13_Q5  2171.0  2.263473e+00  1.014025e+00          1.0  1.000000e+00   \n\n                     50%           75%          max  \nUNIQUE_ID    245098396.5  2.451668e+08  245281386.0  \nSJ_Most_1            3.0  3.000000e+00          4.0  \nSJ_Least_1           2.0  4.000000e+00          4.0  \nSJ_Time_1           56.0  8.000000e+01       1849.0  \nSJ_Most_2            3.0  3.000000e+00          4.0  \n...                  ...           ...          ...  \nPScale13_Q1          1.0  2.000000e+00          4.0  \nPScale13_Q2          1.0  2.000000e+00          4.0  \nPScale13_Q3          4.0  4.000000e+00          4.0  \nPScale13_Q4          3.0  4.000000e+00          4.0  \nPScale13_Q5          2.0  3.000000e+00          4.0  \n\n[121 rows x 8 columns]",
      "text/html": "<div>\n<style scoped>\n    .dataframe tbody tr th:only-of-type {\n        vertical-align: middle;\n    }\n\n    .dataframe tbody tr th {\n        vertical-align: top;\n    }\n\n    .dataframe thead th {\n        text-align: right;\n    }\n</style>\n<table border=\"1\" class=\"dataframe\">\n  <thead>\n    <tr style=\"text-align: right;\">\n      <th></th>\n      <th>count</th>\n      <th>mean</th>\n      <th>std</th>\n      <th>min</th>\n      <th>25%</th>\n      <th>50%</th>\n      <th>75%</th>\n      <th>max</th>\n    </tr>\n  </thead>\n  <tbody>\n    <tr>\n      <th>UNIQUE_ID</th>\n      <td>2250.0</td>\n      <td>2.415150e+08</td>\n      <td>1.852384e+07</td>\n      <td>119744050.0</td>\n      <td>2.450026e+08</td>\n      <td>245098396.5</td>\n      <td>2.451668e+08</td>\n      <td>245281386.0</td>\n    </tr>\n    <tr>\n      <th>SJ_Most_1</th>\n      <td>2177.0</td>\n      <td>2.649058e+00</td>\n      <td>6.879613e-01</td>\n      <td>1.0</td>\n      <td>2.000000e+00</td>\n      <td>3.0</td>\n      <td>3.000000e+00</td>\n      <td>4.0</td>\n    </tr>\n    <tr>\n      <th>SJ_Least_1</th>\n      <td>2177.0</td>\n      <td>2.571888e+00</td>\n      <td>1.348167e+00</td>\n      <td>1.0</td>\n      <td>1.000000e+00</td>\n      <td>2.0</td>\n      <td>4.000000e+00</td>\n      <td>4.0</td>\n    </tr>\n    <tr>\n      <th>SJ_Time_1</th>\n      <td>2177.0</td>\n      <td>7.155857e+01</td>\n      <td>6.762152e+01</td>\n      <td>2.0</td>\n      <td>4.000000e+01</td>\n      <td>56.0</td>\n      <td>8.000000e+01</td>\n      <td>1849.0</td>\n    </tr>\n    <tr>\n      <th>SJ_Most_2</th>\n      <td>2175.0</td>\n      <td>2.694713e+00</td>\n      <td>8.603740e-01</td>\n      <td>1.0</td>\n      <td>3.000000e+00</td>\n      <td>3.0</td>\n      <td>3.000000e+00</td>\n      <td>4.0</td>\n    </tr>\n    <tr>\n      <th>...</th>\n      <td>...</td>\n      <td>...</td>\n      <td>...</td>\n      <td>...</td>\n      <td>...</td>\n      <td>...</td>\n      <td>...</td>\n      <td>...</td>\n    </tr>\n    <tr>\n      <th>PScale13_Q1</th>\n      <td>2170.0</td>\n      <td>1.568664e+00</td>\n      <td>7.819627e-01</td>\n      <td>1.0</td>\n      <td>1.000000e+00</td>\n      <td>1.0</td>\n      <td>2.000000e+00</td>\n      <td>4.0</td>\n    </tr>\n    <tr>\n      <th>PScale13_Q2</th>\n      <td>2172.0</td>\n      <td>1.343462e+00</td>\n      <td>6.344106e-01</td>\n      <td>1.0</td>\n      <td>1.000000e+00</td>\n      <td>1.0</td>\n      <td>2.000000e+00</td>\n      <td>4.0</td>\n    </tr>\n    <tr>\n      <th>PScale13_Q3</th>\n      <td>2170.0</td>\n      <td>3.576959e+00</td>\n      <td>6.869823e-01</td>\n      <td>1.0</td>\n      <td>3.000000e+00</td>\n      <td>4.0</td>\n      <td>4.000000e+00</td>\n      <td>4.0</td>\n    </tr>\n    <tr>\n      <th>PScale13_Q4</th>\n      <td>2176.0</td>\n      <td>3.038143e+00</td>\n      <td>7.736565e-01</td>\n      <td>1.0</td>\n      <td>3.000000e+00</td>\n      <td>3.0</td>\n      <td>4.000000e+00</td>\n      <td>4.0</td>\n    </tr>\n    <tr>\n      <th>PScale13_Q5</th>\n      <td>2171.0</td>\n      <td>2.263473e+00</td>\n      <td>1.014025e+00</td>\n      <td>1.0</td>\n      <td>1.000000e+00</td>\n      <td>2.0</td>\n      <td>3.000000e+00</td>\n      <td>4.0</td>\n    </tr>\n  </tbody>\n</table>\n<p>121 rows × 8 columns</p>\n</div>"
     },
     "execution_count": 32,
     "metadata": {},
     "output_type": "execute_result"
    }
   ],
   "source": [
    "test_data_summary"
   ],
   "metadata": {
    "collapsed": false,
    "pycharm": {
     "name": "#%%\n"
    }
   }
  },
  {
   "cell_type": "code",
   "execution_count": 35,
   "outputs": [],
   "source": [
    "combined_summary = dev_data_summary.join(test_data_summary, lsuffix='_dev', rsuffix='_test')"
   ],
   "metadata": {
    "collapsed": false,
    "pycharm": {
     "name": "#%%\n"
    }
   }
  },
  {
   "cell_type": "code",
   "execution_count": 42,
   "outputs": [
    {
     "ename": "KeyError",
     "evalue": "\"['UNIQUE_ID'] not found in axis\"",
     "output_type": "error",
     "traceback": [
      "\u001B[1;31m---------------------------------------------------------------------------\u001B[0m",
      "\u001B[1;31mKeyError\u001B[0m                                  Traceback (most recent call last)",
      "\u001B[1;32m<ipython-input-42-93da0ef76aba>\u001B[0m in \u001B[0;36m<module>\u001B[1;34m\u001B[0m\n\u001B[0;32m      1\u001B[0m \u001B[0mcombined_summary\u001B[0m\u001B[1;33m[\u001B[0m\u001B[1;34m'mean_difference'\u001B[0m\u001B[1;33m]\u001B[0m \u001B[1;33m=\u001B[0m \u001B[0mcombined_summary\u001B[0m\u001B[1;33m[\u001B[0m\u001B[1;34m'mean_dev'\u001B[0m\u001B[1;33m]\u001B[0m \u001B[1;33m-\u001B[0m \u001B[0mcombined_summary\u001B[0m\u001B[1;33m[\u001B[0m\u001B[1;34m'mean_test'\u001B[0m\u001B[1;33m]\u001B[0m\u001B[1;33m\u001B[0m\u001B[1;33m\u001B[0m\u001B[0m\n\u001B[1;32m----> 2\u001B[1;33m \u001B[0mcombined_summary\u001B[0m\u001B[1;33m.\u001B[0m\u001B[0mdrop\u001B[0m\u001B[1;33m(\u001B[0m\u001B[1;34m'UNIQUE_ID'\u001B[0m\u001B[1;33m,\u001B[0m \u001B[0maxis\u001B[0m\u001B[1;33m=\u001B[0m\u001B[1;36m1\u001B[0m\u001B[1;33m)\u001B[0m\u001B[1;33m\u001B[0m\u001B[1;33m\u001B[0m\u001B[0m\n\u001B[0m",
      "\u001B[1;32m~\\Anaconda3\\lib\\site-packages\\pandas\\core\\frame.py\u001B[0m in \u001B[0;36mdrop\u001B[1;34m(self, labels, axis, index, columns, level, inplace, errors)\u001B[0m\n\u001B[0;32m   4168\u001B[0m             \u001B[0mlevel\u001B[0m\u001B[1;33m=\u001B[0m\u001B[0mlevel\u001B[0m\u001B[1;33m,\u001B[0m\u001B[1;33m\u001B[0m\u001B[1;33m\u001B[0m\u001B[0m\n\u001B[0;32m   4169\u001B[0m             \u001B[0minplace\u001B[0m\u001B[1;33m=\u001B[0m\u001B[0minplace\u001B[0m\u001B[1;33m,\u001B[0m\u001B[1;33m\u001B[0m\u001B[1;33m\u001B[0m\u001B[0m\n\u001B[1;32m-> 4170\u001B[1;33m             \u001B[0merrors\u001B[0m\u001B[1;33m=\u001B[0m\u001B[0merrors\u001B[0m\u001B[1;33m,\u001B[0m\u001B[1;33m\u001B[0m\u001B[1;33m\u001B[0m\u001B[0m\n\u001B[0m\u001B[0;32m   4171\u001B[0m         )\n\u001B[0;32m   4172\u001B[0m \u001B[1;33m\u001B[0m\u001B[0m\n",
      "\u001B[1;32m~\\Anaconda3\\lib\\site-packages\\pandas\\core\\generic.py\u001B[0m in \u001B[0;36mdrop\u001B[1;34m(self, labels, axis, index, columns, level, inplace, errors)\u001B[0m\n\u001B[0;32m   3885\u001B[0m         \u001B[1;32mfor\u001B[0m \u001B[0maxis\u001B[0m\u001B[1;33m,\u001B[0m \u001B[0mlabels\u001B[0m \u001B[1;32min\u001B[0m \u001B[0maxes\u001B[0m\u001B[1;33m.\u001B[0m\u001B[0mitems\u001B[0m\u001B[1;33m(\u001B[0m\u001B[1;33m)\u001B[0m\u001B[1;33m:\u001B[0m\u001B[1;33m\u001B[0m\u001B[1;33m\u001B[0m\u001B[0m\n\u001B[0;32m   3886\u001B[0m             \u001B[1;32mif\u001B[0m \u001B[0mlabels\u001B[0m \u001B[1;32mis\u001B[0m \u001B[1;32mnot\u001B[0m \u001B[1;32mNone\u001B[0m\u001B[1;33m:\u001B[0m\u001B[1;33m\u001B[0m\u001B[1;33m\u001B[0m\u001B[0m\n\u001B[1;32m-> 3887\u001B[1;33m                 \u001B[0mobj\u001B[0m \u001B[1;33m=\u001B[0m \u001B[0mobj\u001B[0m\u001B[1;33m.\u001B[0m\u001B[0m_drop_axis\u001B[0m\u001B[1;33m(\u001B[0m\u001B[0mlabels\u001B[0m\u001B[1;33m,\u001B[0m \u001B[0maxis\u001B[0m\u001B[1;33m,\u001B[0m \u001B[0mlevel\u001B[0m\u001B[1;33m=\u001B[0m\u001B[0mlevel\u001B[0m\u001B[1;33m,\u001B[0m \u001B[0merrors\u001B[0m\u001B[1;33m=\u001B[0m\u001B[0merrors\u001B[0m\u001B[1;33m)\u001B[0m\u001B[1;33m\u001B[0m\u001B[1;33m\u001B[0m\u001B[0m\n\u001B[0m\u001B[0;32m   3888\u001B[0m \u001B[1;33m\u001B[0m\u001B[0m\n\u001B[0;32m   3889\u001B[0m         \u001B[1;32mif\u001B[0m \u001B[0minplace\u001B[0m\u001B[1;33m:\u001B[0m\u001B[1;33m\u001B[0m\u001B[1;33m\u001B[0m\u001B[0m\n",
      "\u001B[1;32m~\\Anaconda3\\lib\\site-packages\\pandas\\core\\generic.py\u001B[0m in \u001B[0;36m_drop_axis\u001B[1;34m(self, labels, axis, level, errors)\u001B[0m\n\u001B[0;32m   3919\u001B[0m                 \u001B[0mnew_axis\u001B[0m \u001B[1;33m=\u001B[0m \u001B[0maxis\u001B[0m\u001B[1;33m.\u001B[0m\u001B[0mdrop\u001B[0m\u001B[1;33m(\u001B[0m\u001B[0mlabels\u001B[0m\u001B[1;33m,\u001B[0m \u001B[0mlevel\u001B[0m\u001B[1;33m=\u001B[0m\u001B[0mlevel\u001B[0m\u001B[1;33m,\u001B[0m \u001B[0merrors\u001B[0m\u001B[1;33m=\u001B[0m\u001B[0merrors\u001B[0m\u001B[1;33m)\u001B[0m\u001B[1;33m\u001B[0m\u001B[1;33m\u001B[0m\u001B[0m\n\u001B[0;32m   3920\u001B[0m             \u001B[1;32melse\u001B[0m\u001B[1;33m:\u001B[0m\u001B[1;33m\u001B[0m\u001B[1;33m\u001B[0m\u001B[0m\n\u001B[1;32m-> 3921\u001B[1;33m                 \u001B[0mnew_axis\u001B[0m \u001B[1;33m=\u001B[0m \u001B[0maxis\u001B[0m\u001B[1;33m.\u001B[0m\u001B[0mdrop\u001B[0m\u001B[1;33m(\u001B[0m\u001B[0mlabels\u001B[0m\u001B[1;33m,\u001B[0m \u001B[0merrors\u001B[0m\u001B[1;33m=\u001B[0m\u001B[0merrors\u001B[0m\u001B[1;33m)\u001B[0m\u001B[1;33m\u001B[0m\u001B[1;33m\u001B[0m\u001B[0m\n\u001B[0m\u001B[0;32m   3922\u001B[0m             \u001B[0mresult\u001B[0m \u001B[1;33m=\u001B[0m \u001B[0mself\u001B[0m\u001B[1;33m.\u001B[0m\u001B[0mreindex\u001B[0m\u001B[1;33m(\u001B[0m\u001B[1;33m**\u001B[0m\u001B[1;33m{\u001B[0m\u001B[0maxis_name\u001B[0m\u001B[1;33m:\u001B[0m \u001B[0mnew_axis\u001B[0m\u001B[1;33m}\u001B[0m\u001B[1;33m)\u001B[0m\u001B[1;33m\u001B[0m\u001B[1;33m\u001B[0m\u001B[0m\n\u001B[0;32m   3923\u001B[0m \u001B[1;33m\u001B[0m\u001B[0m\n",
      "\u001B[1;32m~\\Anaconda3\\lib\\site-packages\\pandas\\core\\indexes\\base.py\u001B[0m in \u001B[0;36mdrop\u001B[1;34m(self, labels, errors)\u001B[0m\n\u001B[0;32m   5280\u001B[0m         \u001B[1;32mif\u001B[0m \u001B[0mmask\u001B[0m\u001B[1;33m.\u001B[0m\u001B[0many\u001B[0m\u001B[1;33m(\u001B[0m\u001B[1;33m)\u001B[0m\u001B[1;33m:\u001B[0m\u001B[1;33m\u001B[0m\u001B[1;33m\u001B[0m\u001B[0m\n\u001B[0;32m   5281\u001B[0m             \u001B[1;32mif\u001B[0m \u001B[0merrors\u001B[0m \u001B[1;33m!=\u001B[0m \u001B[1;34m\"ignore\"\u001B[0m\u001B[1;33m:\u001B[0m\u001B[1;33m\u001B[0m\u001B[1;33m\u001B[0m\u001B[0m\n\u001B[1;32m-> 5282\u001B[1;33m                 \u001B[1;32mraise\u001B[0m \u001B[0mKeyError\u001B[0m\u001B[1;33m(\u001B[0m\u001B[1;34mf\"{labels[mask]} not found in axis\"\u001B[0m\u001B[1;33m)\u001B[0m\u001B[1;33m\u001B[0m\u001B[1;33m\u001B[0m\u001B[0m\n\u001B[0m\u001B[0;32m   5283\u001B[0m             \u001B[0mindexer\u001B[0m \u001B[1;33m=\u001B[0m \u001B[0mindexer\u001B[0m\u001B[1;33m[\u001B[0m\u001B[1;33m~\u001B[0m\u001B[0mmask\u001B[0m\u001B[1;33m]\u001B[0m\u001B[1;33m\u001B[0m\u001B[1;33m\u001B[0m\u001B[0m\n\u001B[0;32m   5284\u001B[0m         \u001B[1;32mreturn\u001B[0m \u001B[0mself\u001B[0m\u001B[1;33m.\u001B[0m\u001B[0mdelete\u001B[0m\u001B[1;33m(\u001B[0m\u001B[0mindexer\u001B[0m\u001B[1;33m)\u001B[0m\u001B[1;33m\u001B[0m\u001B[1;33m\u001B[0m\u001B[0m\n",
      "\u001B[1;31mKeyError\u001B[0m: \"['UNIQUE_ID'] not found in axis\""
     ]
    }
   ],
   "source": [
    "combined_summary['mean_difference'] = combined_summary['mean_dev'] - combined_summary['mean_test']"
   ],
   "metadata": {
    "collapsed": false,
    "pycharm": {
     "name": "#%%\n"
    }
   }
  },
  {
   "cell_type": "code",
   "execution_count": 47,
   "outputs": [],
   "source": [
    "combined_summary = combined_summary.drop(['UNIQUE_ID'])"
   ],
   "metadata": {
    "collapsed": false,
    "pycharm": {
     "name": "#%%\n"
    }
   }
  },
  {
   "cell_type": "code",
   "execution_count": 50,
   "outputs": [
    {
     "data": {
      "text/plain": "<AxesSubplot:xlabel='mean_dev', ylabel='mean_test'>"
     },
     "execution_count": 50,
     "metadata": {},
     "output_type": "execute_result"
    },
    {
     "data": {
      "text/plain": "<Figure size 720x360 with 1 Axes>",
      "image/png": "[encoded data removed]"
     },
     "metadata": {
      "needs_background": "light"
     },
     "output_type": "display_data"
    }
   ],
   "source": [
    "combined_summary.plot(x='mean_dev', y='mean_test', kind='scatter')"
   ],
   "metadata": {
    "collapsed": false,
    "pycharm": {
     "name": "#%%\n"
    }
   }
  },
  {
   "cell_type": "code",
   "execution_count": null,
   "outputs": [],
   "source": [],
   "metadata": {
    "collapsed": false,
    "pycharm": {
     "name": "#%%\n"
    }
   }
  }
 ],
 "metadata": {
  "kernelspec": {
   "name": "pycharm-79f9137c",
   "language": "python",
   "display_name": "PyCharm (2 - Work in Process)"
  },
  "language_info": {
   "codemirror_mode": {
    "name": "ipython",
    "version": 2
   },
   "file_extension": ".py",
   "mimetype": "text/x-python",
   "name": "python",
   "nbconvert_exporter": "python",
   "pygments_lexer": "ipython2",
   "version": "2.7.6"
  }
 },
 "nbformat": 4,
 "nbformat_minor": 0
}