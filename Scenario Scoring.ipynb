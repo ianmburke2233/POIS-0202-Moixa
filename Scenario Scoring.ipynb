{
 "cells": [
  {
   "cell_type": "code",
   "execution_count": 1,
   "metadata": {
    "collapsed": true
   },
   "outputs": [],
   "source": [
    "import pandas as pd"
   ]
  },
  {
   "cell_type": "code",
   "execution_count": 2,
   "outputs": [],
   "source": [
    "x = pd.read_csv(\"C:/Users/Ian/Box Sync/Internal/Internal Initiatives/SIOP ML Competition 2020/Data/TrainingData.csv\")"
   ],
   "metadata": {
    "collapsed": false,
    "pycharm": {
     "name": "#%%\n"
    }
   }
  },
  {
   "cell_type": "code",
   "execution_count": 57,
   "outputs": [],
   "source": [
    "def scenarioScoring(scenario, raw):\n",
    "    df = pd.DataFrame(raw[scenario])\n",
    "    mode = df.mode().iloc[0][0]\n",
    "    df['{}_score'.format(scenario)] = df[scenario].apply(lambda x: abs(x - mode))\n",
    "    print(df)\n",
    "    return pd.DataFrame(df['{}_score'.format(scenario)])"
   ],
   "metadata": {
    "collapsed": false,
    "pycharm": {
     "name": "#%%\n"
    }
   }
  },
  {
   "cell_type": "code",
   "execution_count": 58,
   "outputs": [
    {
     "name": "stdout",
     "output_type": "stream",
     "text": [
      "       Scenario1_1  Scenario1_1_score\n",
      "0              1.0                0.0\n",
      "1              1.0                0.0\n",
      "2              1.0                0.0\n",
      "3              1.0                0.0\n",
      "4              1.0                0.0\n",
      "...            ...                ...\n",
      "44097          1.0                0.0\n",
      "44098          1.0                0.0\n",
      "44099          1.0                0.0\n",
      "44100          1.0                0.0\n",
      "44101          1.0                0.0\n",
      "\n",
      "[44102 rows x 2 columns]\n",
      "       Scenario1_2  Scenario1_2_score\n",
      "0              1.0                0.0\n",
      "1              1.0                0.0\n",
      "2              1.0                0.0\n",
      "3              1.0                0.0\n",
      "4              0.0                1.0\n",
      "...            ...                ...\n",
      "44097          1.0                0.0\n",
      "44098          1.0                0.0\n",
      "44099          1.0                0.0\n",
      "44100          1.0                0.0\n",
      "44101          1.0                0.0\n",
      "\n",
      "[44102 rows x 2 columns]\n",
      "       Scenario1_3  Scenario1_3_score\n",
      "0              1.0                0.0\n",
      "1              1.0                0.0\n",
      "2              1.0                0.0\n",
      "3              1.0                0.0\n",
      "4              1.0                0.0\n",
      "...            ...                ...\n",
      "44097          1.0                0.0\n",
      "44098          1.0                0.0\n",
      "44099          1.0                0.0\n",
      "44100          1.0                0.0\n",
      "44101          1.0                0.0\n",
      "\n",
      "[44102 rows x 2 columns]\n",
      "       Scenario1_4  Scenario1_4_score\n",
      "0              4.0                0.0\n",
      "1              4.0                0.0\n",
      "2              4.0                0.0\n",
      "3              4.0                0.0\n",
      "4              4.0                0.0\n",
      "...            ...                ...\n",
      "44097          4.0                0.0\n",
      "44098          4.0                0.0\n",
      "44099          4.0                0.0\n",
      "44100          4.0                0.0\n",
      "44101          4.0                0.0\n",
      "\n",
      "[44102 rows x 2 columns]\n",
      "       Scenario1_5  Scenario1_5_score\n",
      "0              1.0                0.0\n",
      "1              1.0                0.0\n",
      "2              1.0                0.0\n",
      "3              1.0                0.0\n",
      "4              1.0                0.0\n",
      "...            ...                ...\n",
      "44097          1.0                0.0\n",
      "44098          1.0                0.0\n",
      "44099          1.0                0.0\n",
      "44100          1.0                0.0\n",
      "44101          1.0                0.0\n",
      "\n",
      "[44102 rows x 2 columns]\n",
      "       Scenario1_6  Scenario1_6_score\n",
      "0              2.0                0.0\n",
      "1              2.0                0.0\n",
      "2              1.0                1.0\n",
      "3              2.0                0.0\n",
      "4              2.0                0.0\n",
      "...            ...                ...\n",
      "44097          2.0                0.0\n",
      "44098          2.0                0.0\n",
      "44099          2.0                0.0\n",
      "44100          2.0                0.0\n",
      "44101          2.0                0.0\n",
      "\n",
      "[44102 rows x 2 columns]\n",
      "       Scenario1_7  Scenario1_7_score\n",
      "0              0.0                0.0\n",
      "1              0.0                0.0\n",
      "2              2.0                2.0\n",
      "3              0.0                0.0\n",
      "4              0.0                0.0\n",
      "...            ...                ...\n",
      "44097          0.0                0.0\n",
      "44098          0.0                0.0\n",
      "44099          0.0                0.0\n",
      "44100          0.0                0.0\n",
      "44101          0.0                0.0\n",
      "\n",
      "[44102 rows x 2 columns]\n",
      "       Scenario1_8  Scenario1_8_score\n",
      "0              4.0                0.0\n",
      "1              4.0                0.0\n",
      "2              4.0                0.0\n",
      "3              4.0                0.0\n",
      "4              4.0                0.0\n",
      "...            ...                ...\n",
      "44097          4.0                0.0\n",
      "44098          4.0                0.0\n",
      "44099          4.0                0.0\n",
      "44100          4.0                0.0\n",
      "44101          4.0                0.0\n",
      "\n",
      "[44102 rows x 2 columns]\n",
      "       Scenario2_1  Scenario2_1_score\n",
      "0              4.0                0.0\n",
      "1              4.0                0.0\n",
      "2              4.0                0.0\n",
      "3              4.0                0.0\n",
      "4              4.0                0.0\n",
      "...            ...                ...\n",
      "44097          4.0                0.0\n",
      "44098          4.0                0.0\n",
      "44099          4.0                0.0\n",
      "44100          4.0                0.0\n",
      "44101          4.0                0.0\n",
      "\n",
      "[44102 rows x 2 columns]\n",
      "       Scenario2_2  Scenario2_2_score\n",
      "0              0.0                0.0\n",
      "1              0.0                0.0\n",
      "2              0.0                0.0\n",
      "3              0.0                0.0\n",
      "4              0.0                0.0\n",
      "...            ...                ...\n",
      "44097          0.0                0.0\n",
      "44098          0.0                0.0\n",
      "44099          0.0                0.0\n",
      "44100          0.0                0.0\n",
      "44101          0.0                0.0\n",
      "\n",
      "[44102 rows x 2 columns]\n",
      "       Scenario2_3  Scenario2_3_score\n",
      "0              1.0                0.0\n",
      "1              1.0                0.0\n",
      "2              1.0                0.0\n",
      "3              1.0                0.0\n",
      "4              1.0                0.0\n",
      "...            ...                ...\n",
      "44097          1.0                0.0\n",
      "44098          1.0                0.0\n",
      "44099          1.0                0.0\n",
      "44100          1.0                0.0\n",
      "44101          1.0                0.0\n",
      "\n",
      "[44102 rows x 2 columns]\n",
      "       Scenario2_4  Scenario2_4_score\n",
      "0              3.0                0.0\n",
      "1              3.0                0.0\n",
      "2              3.0                0.0\n",
      "3              3.0                0.0\n",
      "4              3.0                0.0\n",
      "...            ...                ...\n",
      "44097          3.0                0.0\n",
      "44098          3.0                0.0\n",
      "44099          3.0                0.0\n",
      "44100          3.0                0.0\n",
      "44101          3.0                0.0\n",
      "\n",
      "[44102 rows x 2 columns]\n",
      "       Scenario2_5  Scenario2_5_score\n",
      "0              3.0                0.0\n",
      "1              3.0                0.0\n",
      "2              3.0                0.0\n",
      "3              3.0                0.0\n",
      "4              3.0                0.0\n",
      "...            ...                ...\n",
      "44097          3.0                0.0\n",
      "44098          3.0                0.0\n",
      "44099          3.0                0.0\n",
      "44100          3.0                0.0\n",
      "44101          3.0                0.0\n",
      "\n",
      "[44102 rows x 2 columns]\n",
      "       Scenario2_6  Scenario2_6_score\n",
      "0              2.0                0.0\n",
      "1              2.0                0.0\n",
      "2              2.0                0.0\n",
      "3              2.0                0.0\n",
      "4              2.0                0.0\n",
      "...            ...                ...\n",
      "44097          2.0                0.0\n",
      "44098          2.0                0.0\n",
      "44099          2.0                0.0\n",
      "44100          2.0                0.0\n",
      "44101          2.0                0.0\n",
      "\n",
      "[44102 rows x 2 columns]\n",
      "       Scenario2_7  Scenario2_7_score\n",
      "0              0.0                0.0\n",
      "1              0.0                0.0\n",
      "2              0.0                0.0\n",
      "3              0.0                0.0\n",
      "4              0.0                0.0\n",
      "...            ...                ...\n",
      "44097          0.0                0.0\n",
      "44098          0.0                0.0\n",
      "44099          0.0                0.0\n",
      "44100          0.0                0.0\n",
      "44101          0.0                0.0\n",
      "\n",
      "[44102 rows x 2 columns]\n",
      "       Scenario2_8  Scenario2_8_score\n",
      "0              3.0                0.0\n",
      "1              3.0                0.0\n",
      "2              3.0                0.0\n",
      "3              3.0                0.0\n",
      "4              3.0                0.0\n",
      "...            ...                ...\n",
      "44097          3.0                0.0\n",
      "44098          3.0                0.0\n",
      "44099          3.0                0.0\n",
      "44100          3.0                0.0\n",
      "44101          3.0                0.0\n",
      "\n",
      "[44102 rows x 2 columns]\n"
     ]
    }
   ],
   "source": [
    "l =  ['Scenario1_1','Scenario1_2','Scenario1_3','Scenario1_4','Scenario1_5','Scenario1_6','Scenario1_7','Scenario1_8',\n",
    "      'Scenario2_1','Scenario2_2','Scenario2_3','Scenario2_4','Scenario2_5','Scenario2_6','Scenario2_7','Scenario2_8']\n",
    "\n",
    "for obj in l:\n",
    "    df1 = scenarioScoring(obj, x)\n",
    "    if l.index(obj) == 0:\n",
    "        out = df1\n",
    "    else:\n",
    "        out = out.join(df1)"
   ],
   "metadata": {
    "collapsed": false,
    "pycharm": {
     "name": "#%%\n"
    }
   }
  },
  {
   "cell_type": "code",
   "execution_count": 67,
   "outputs": [
    {
     "data": {
      "text/plain": "                   Scenario1_1_score  Scenario1_2_score  Scenario1_3_score  \\\nScenario2_4_score                                                            \n0.0                            41637              41637              41637   \n1.0                              557                557                557   \n2.0                              317                317                317   \n3.0                              724                724                724   \n4.0                                9                  9                  9   \n5.0                              799                799                799   \n6.0                               11                 11                 11   \n\n                   Scenario1_4_score  Scenario1_5_score  Scenario1_6_score  \\\nScenario2_4_score                                                            \n0.0                            41637              41637              41637   \n1.0                              557                557                557   \n2.0                              317                317                317   \n3.0                              724                724                724   \n4.0                                9                  9                  9   \n5.0                              799                799                799   \n6.0                               11                 11                 11   \n\n                   Scenario1_7_score  Scenario1_8_score  Scenario2_1_score  \\\nScenario2_4_score                                                            \n0.0                            41637              41637              41645   \n1.0                              557                557                557   \n2.0                              317                317                317   \n3.0                              724                724                724   \n4.0                                9                  9                  9   \n5.0                              799                799                800   \n6.0                               11                 11                 11   \n\n                   Scenario2_2_score  Scenario2_3_score  Scenario2_5_score  \\\nScenario2_4_score                                                            \n0.0                            41645              41645              41645   \n1.0                              557                557                557   \n2.0                              317                317                317   \n3.0                              724                724                724   \n4.0                                9                  9                  9   \n5.0                              800                800                800   \n6.0                               11                 11                 11   \n\n                   Scenario2_6_score  Scenario2_7_score  Scenario2_8_score  \nScenario2_4_score                                                           \n0.0                            41645              41645              41645  \n1.0                              557                557                557  \n2.0                              317                317                317  \n3.0                              724                724                724  \n4.0                                9                  9                  9  \n5.0                              800                800                800  \n6.0                               11                 11                 11  ",
      "text/html": "<div>\n<style scoped>\n    .dataframe tbody tr th:only-of-type {\n        vertical-align: middle;\n    }\n\n    .dataframe tbody tr th {\n        vertical-align: top;\n    }\n\n    .dataframe thead th {\n        text-align: right;\n    }\n</style>\n<table border=\"1\" class=\"dataframe\">\n  <thead>\n    <tr style=\"text-align: right;\">\n      <th></th>\n      <th>Scenario1_1_score</th>\n      <th>Scenario1_2_score</th>\n      <th>Scenario1_3_score</th>\n      <th>Scenario1_4_score</th>\n      <th>Scenario1_5_score</th>\n      <th>Scenario1_6_score</th>\n      <th>Scenario1_7_score</th>\n      <th>Scenario1_8_score</th>\n      <th>Scenario2_1_score</th>\n      <th>Scenario2_2_score</th>\n      <th>Scenario2_3_score</th>\n      <th>Scenario2_5_score</th>\n      <th>Scenario2_6_score</th>\n      <th>Scenario2_7_score</th>\n      <th>Scenario2_8_score</th>\n    </tr>\n    <tr>\n      <th>Scenario2_4_score</th>\n      <th></th>\n      <th></th>\n      <th></th>\n      <th></th>\n      <th></th>\n      <th></th>\n      <th></th>\n      <th></th>\n      <th></th>\n      <th></th>\n      <th></th>\n      <th></th>\n      <th></th>\n      <th></th>\n      <th></th>\n    </tr>\n  </thead>\n  <tbody>\n    <tr>\n      <th>0.0</th>\n      <td>41637</td>\n      <td>41637</td>\n      <td>41637</td>\n      <td>41637</td>\n      <td>41637</td>\n      <td>41637</td>\n      <td>41637</td>\n      <td>41637</td>\n      <td>41645</td>\n      <td>41645</td>\n      <td>41645</td>\n      <td>41645</td>\n      <td>41645</td>\n      <td>41645</td>\n      <td>41645</td>\n    </tr>\n    <tr>\n      <th>1.0</th>\n      <td>557</td>\n      <td>557</td>\n      <td>557</td>\n      <td>557</td>\n      <td>557</td>\n      <td>557</td>\n      <td>557</td>\n      <td>557</td>\n      <td>557</td>\n      <td>557</td>\n      <td>557</td>\n      <td>557</td>\n      <td>557</td>\n      <td>557</td>\n      <td>557</td>\n    </tr>\n    <tr>\n      <th>2.0</th>\n      <td>317</td>\n      <td>317</td>\n      <td>317</td>\n      <td>317</td>\n      <td>317</td>\n      <td>317</td>\n      <td>317</td>\n      <td>317</td>\n      <td>317</td>\n      <td>317</td>\n      <td>317</td>\n      <td>317</td>\n      <td>317</td>\n      <td>317</td>\n      <td>317</td>\n    </tr>\n    <tr>\n      <th>3.0</th>\n      <td>724</td>\n      <td>724</td>\n      <td>724</td>\n      <td>724</td>\n      <td>724</td>\n      <td>724</td>\n      <td>724</td>\n      <td>724</td>\n      <td>724</td>\n      <td>724</td>\n      <td>724</td>\n      <td>724</td>\n      <td>724</td>\n      <td>724</td>\n      <td>724</td>\n    </tr>\n    <tr>\n      <th>4.0</th>\n      <td>9</td>\n      <td>9</td>\n      <td>9</td>\n      <td>9</td>\n      <td>9</td>\n      <td>9</td>\n      <td>9</td>\n      <td>9</td>\n      <td>9</td>\n      <td>9</td>\n      <td>9</td>\n      <td>9</td>\n      <td>9</td>\n      <td>9</td>\n      <td>9</td>\n    </tr>\n    <tr>\n      <th>5.0</th>\n      <td>799</td>\n      <td>799</td>\n      <td>799</td>\n      <td>799</td>\n      <td>799</td>\n      <td>799</td>\n      <td>799</td>\n      <td>799</td>\n      <td>800</td>\n      <td>800</td>\n      <td>800</td>\n      <td>800</td>\n      <td>800</td>\n      <td>800</td>\n      <td>800</td>\n    </tr>\n    <tr>\n      <th>6.0</th>\n      <td>11</td>\n      <td>11</td>\n      <td>11</td>\n      <td>11</td>\n      <td>11</td>\n      <td>11</td>\n      <td>11</td>\n      <td>11</td>\n      <td>11</td>\n      <td>11</td>\n      <td>11</td>\n      <td>11</td>\n      <td>11</td>\n      <td>11</td>\n      <td>11</td>\n    </tr>\n  </tbody>\n</table>\n</div>"
     },
     "execution_count": 67,
     "metadata": {},
     "output_type": "execute_result"
    }
   ],
   "source": [
    "out.groupby(['Scenario2_4_score']).count()"
   ],
   "metadata": {
    "collapsed": false,
    "pycharm": {
     "name": "#%%\n"
    }
   }
  },
  {
   "cell_type": "code",
   "execution_count": 68,
   "outputs": [],
   "source": [
    "final = x[['perfFlag', 'Retained']].join(out)"
   ],
   "metadata": {
    "collapsed": false,
    "pycharm": {
     "name": "#%%\n"
    }
   }
  },
  {
   "cell_type": "code",
   "execution_count": 69,
   "outputs": [
    {
     "data": {
      "text/plain": "                   Scenario1_1_score  Scenario1_2_score  Scenario1_3_score  \\\nperfFlag Retained                                                            \n0        0                  0.066807           0.101548           0.194227   \n         1                  0.059129           0.098296           0.180481   \n1        0                  0.065687           0.113977           0.193761   \n         1                  0.069011           0.109231           0.192747   \n\n                   Scenario1_4_score  Scenario1_5_score  Scenario1_6_score  \\\nperfFlag Retained                                                            \n0        0                  0.165363           0.065914           0.187825   \n         1                  0.143182           0.065200           0.178847   \n1        0                  0.173965           0.063587           0.188362   \n         1                  0.138901           0.074725           0.184615   \n\n                   Scenario1_7_score  Scenario1_8_score  Scenario2_1_score  \\\nperfFlag Retained                                                            \n0        0                  0.180110           0.183994           0.126168   \n         1                  0.158592           0.169974           0.114159   \n1        0                  0.190162           0.190162           0.143371   \n         1                  0.170549           0.176923           0.136294   \n\n                   Scenario2_2_score  Scenario2_3_score  Scenario2_4_score  \\\nperfFlag Retained                                                            \n0        0                  0.141185           0.174577           0.177465   \n         1                  0.102428           0.169604           0.156998   \n1        0                  0.141572           0.183563           0.178764   \n         1                  0.143548           0.177621           0.175643   \n\n                   Scenario2_5_score  Scenario2_6_score  Scenario2_7_score  \\\nperfFlag Retained                                                            \n0        0                  0.088470           0.148850           0.120603   \n         1                  0.084277           0.137154           0.104529   \n1        0                  0.102280           0.161368           0.123275   \n         1                  0.093647           0.155199           0.112772   \n\n                   Scenario2_8_score  \nperfFlag Retained                     \n0        0                  0.123228  \n         1                  0.115968  \n1        0                  0.142172  \n         1                  0.116509  ",
      "text/html": "<div>\n<style scoped>\n    .dataframe tbody tr th:only-of-type {\n        vertical-align: middle;\n    }\n\n    .dataframe tbody tr th {\n        vertical-align: top;\n    }\n\n    .dataframe thead th {\n        text-align: right;\n    }\n</style>\n<table border=\"1\" class=\"dataframe\">\n  <thead>\n    <tr style=\"text-align: right;\">\n      <th></th>\n      <th></th>\n      <th>Scenario1_1_score</th>\n      <th>Scenario1_2_score</th>\n      <th>Scenario1_3_score</th>\n      <th>Scenario1_4_score</th>\n      <th>Scenario1_5_score</th>\n      <th>Scenario1_6_score</th>\n      <th>Scenario1_7_score</th>\n      <th>Scenario1_8_score</th>\n      <th>Scenario2_1_score</th>\n      <th>Scenario2_2_score</th>\n      <th>Scenario2_3_score</th>\n      <th>Scenario2_4_score</th>\n      <th>Scenario2_5_score</th>\n      <th>Scenario2_6_score</th>\n      <th>Scenario2_7_score</th>\n      <th>Scenario2_8_score</th>\n    </tr>\n    <tr>\n      <th>perfFlag</th>\n      <th>Retained</th>\n      <th></th>\n      <th></th>\n      <th></th>\n      <th></th>\n      <th></th>\n      <th></th>\n      <th></th>\n      <th></th>\n      <th></th>\n      <th></th>\n      <th></th>\n      <th></th>\n      <th></th>\n      <th></th>\n      <th></th>\n      <th></th>\n    </tr>\n  </thead>\n  <tbody>\n    <tr>\n      <th rowspan=\"2\" valign=\"top\">0</th>\n      <th>0</th>\n      <td>0.066807</td>\n      <td>0.101548</td>\n      <td>0.194227</td>\n      <td>0.165363</td>\n      <td>0.065914</td>\n      <td>0.187825</td>\n      <td>0.180110</td>\n      <td>0.183994</td>\n      <td>0.126168</td>\n      <td>0.141185</td>\n      <td>0.174577</td>\n      <td>0.177465</td>\n      <td>0.088470</td>\n      <td>0.148850</td>\n      <td>0.120603</td>\n      <td>0.123228</td>\n    </tr>\n    <tr>\n      <th>1</th>\n      <td>0.059129</td>\n      <td>0.098296</td>\n      <td>0.180481</td>\n      <td>0.143182</td>\n      <td>0.065200</td>\n      <td>0.178847</td>\n      <td>0.158592</td>\n      <td>0.169974</td>\n      <td>0.114159</td>\n      <td>0.102428</td>\n      <td>0.169604</td>\n      <td>0.156998</td>\n      <td>0.084277</td>\n      <td>0.137154</td>\n      <td>0.104529</td>\n      <td>0.115968</td>\n    </tr>\n    <tr>\n      <th rowspan=\"2\" valign=\"top\">1</th>\n      <th>0</th>\n      <td>0.065687</td>\n      <td>0.113977</td>\n      <td>0.193761</td>\n      <td>0.173965</td>\n      <td>0.063587</td>\n      <td>0.188362</td>\n      <td>0.190162</td>\n      <td>0.190162</td>\n      <td>0.143371</td>\n      <td>0.141572</td>\n      <td>0.183563</td>\n      <td>0.178764</td>\n      <td>0.102280</td>\n      <td>0.161368</td>\n      <td>0.123275</td>\n      <td>0.142172</td>\n    </tr>\n    <tr>\n      <th>1</th>\n      <td>0.069011</td>\n      <td>0.109231</td>\n      <td>0.192747</td>\n      <td>0.138901</td>\n      <td>0.074725</td>\n      <td>0.184615</td>\n      <td>0.170549</td>\n      <td>0.176923</td>\n      <td>0.136294</td>\n      <td>0.143548</td>\n      <td>0.177621</td>\n      <td>0.175643</td>\n      <td>0.093647</td>\n      <td>0.155199</td>\n      <td>0.112772</td>\n      <td>0.116509</td>\n    </tr>\n  </tbody>\n</table>\n</div>"
     },
     "execution_count": 69,
     "metadata": {},
     "output_type": "execute_result"
    }
   ],
   "source": [
    "final.groupby(['perfFlag', 'Retained']).mean()"
   ],
   "metadata": {
    "collapsed": false,
    "pycharm": {
     "name": "#%%\n"
    }
   }
  },
  {
   "cell_type": "code",
   "execution_count": null,
   "outputs": [],
   "source": [],
   "metadata": {
    "collapsed": false,
    "pycharm": {
     "name": "#%%\n"
    }
   }
  }
 ],
 "metadata": {
  "kernelspec": {
   "name": "pycharm-79f9137c",
   "language": "python",
   "display_name": "PyCharm (2 - Work in Process)"
  },
  "language_info": {
   "codemirror_mode": {
    "name": "ipython",
    "version": 2
   },
   "file_extension": ".py",
   "mimetype": "text/x-python",
   "name": "python",
   "nbconvert_exporter": "python",
   "pygments_lexer": "ipython2",
   "version": "2.7.6"
  }
 },
 "nbformat": 4,
 "nbformat_minor": 0
}