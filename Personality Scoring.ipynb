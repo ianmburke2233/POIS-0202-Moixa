{
 "cells": [
  {
   "cell_type": "code",
   "execution_count": 10,
   "metadata": {
    "collapsed": true,
    "jupyter": {
     "outputs_hidden": true
    }
   },
   "outputs": [],
   "source": [
    "import pandas as pd"
   ]
  },
  {
   "cell_type": "code",
   "execution_count": 6,
   "metadata": {
    "collapsed": false,
    "jupyter": {
     "outputs_hidden": false
    },
    "pycharm": {
     "name": "#%%\n"
    }
   },
   "outputs": [
    {
     "name": "stderr",
     "output_type": "stream",
     "text": [
      "C:\\Users\\Ian\\Anaconda3\\lib\\site-packages\\IPython\\core\\interactiveshell.py:3063: DtypeWarning: Columns (1,2,3,4,5,6,7) have mixed types.Specify dtype option on import or set low_memory=False.\n",
      "  interactivity=interactivity, compiler=compiler, result=result)\n"
     ]
    }
   ],
   "source": [
    "x = pd.read_csv(\"C:/Users/Ian/Box Sync/Internal/Internal Initiatives/SIOP ML Competition 2020/Data/TrainingData.csv\")"
   ]
  },
  {
   "cell_type": "code",
   "execution_count": 7,
   "metadata": {
    "collapsed": false,
    "jupyter": {
     "outputs_hidden": false
    },
    "pycharm": {
     "name": "#%%\n"
    }
   },
   "outputs": [
    {
     "ename": "KeyError",
     "evalue": "'perfFlag'",
     "output_type": "error",
     "traceback": [
      "\u001b[1;31m---------------------------------------------------------------------------\u001b[0m",
      "\u001b[1;31mKeyError\u001b[0m                                  Traceback (most recent call last)",
      "\u001b[1;32m<ipython-input-7-85c698c9de70>\u001b[0m in \u001b[0;36m<module>\u001b[1;34m\u001b[0m\n\u001b[1;32m----> 1\u001b[1;33m \u001b[0mdf\u001b[0m \u001b[1;33m=\u001b[0m \u001b[0mx\u001b[0m\u001b[1;33m.\u001b[0m\u001b[0mgroupby\u001b[0m\u001b[1;33m(\u001b[0m\u001b[1;33m[\u001b[0m\u001b[1;34m'perfFlag'\u001b[0m\u001b[1;33m,\u001b[0m \u001b[1;34m'Retained'\u001b[0m\u001b[1;33m]\u001b[0m\u001b[1;33m)\u001b[0m\u001b[1;33m.\u001b[0m\u001b[0mmean\u001b[0m\u001b[1;33m(\u001b[0m\u001b[1;33m)\u001b[0m\u001b[1;33m\u001b[0m\u001b[1;33m\u001b[0m\u001b[0m\n\u001b[0m\u001b[0;32m      2\u001b[0m \u001b[1;33m\u001b[0m\u001b[0m\n",
      "\u001b[1;32m~\\Anaconda3\\lib\\site-packages\\pandas\\core\\frame.py\u001b[0m in \u001b[0;36mgroupby\u001b[1;34m(self, by, axis, level, as_index, sort, group_keys, squeeze, observed)\u001b[0m\n\u001b[0;32m   5808\u001b[0m             \u001b[0mgroup_keys\u001b[0m\u001b[1;33m=\u001b[0m\u001b[0mgroup_keys\u001b[0m\u001b[1;33m,\u001b[0m\u001b[1;33m\u001b[0m\u001b[1;33m\u001b[0m\u001b[0m\n\u001b[0;32m   5809\u001b[0m             \u001b[0msqueeze\u001b[0m\u001b[1;33m=\u001b[0m\u001b[0msqueeze\u001b[0m\u001b[1;33m,\u001b[0m\u001b[1;33m\u001b[0m\u001b[1;33m\u001b[0m\u001b[0m\n\u001b[1;32m-> 5810\u001b[1;33m             \u001b[0mobserved\u001b[0m\u001b[1;33m=\u001b[0m\u001b[0mobserved\u001b[0m\u001b[1;33m,\u001b[0m\u001b[1;33m\u001b[0m\u001b[1;33m\u001b[0m\u001b[0m\n\u001b[0m\u001b[0;32m   5811\u001b[0m         )\n\u001b[0;32m   5812\u001b[0m \u001b[1;33m\u001b[0m\u001b[0m\n",
      "\u001b[1;32m~\\Anaconda3\\lib\\site-packages\\pandas\\core\\groupby\\groupby.py\u001b[0m in \u001b[0;36m__init__\u001b[1;34m(self, obj, keys, axis, level, grouper, exclusions, selection, as_index, sort, group_keys, squeeze, observed, mutated)\u001b[0m\n\u001b[0;32m    407\u001b[0m                 \u001b[0msort\u001b[0m\u001b[1;33m=\u001b[0m\u001b[0msort\u001b[0m\u001b[1;33m,\u001b[0m\u001b[1;33m\u001b[0m\u001b[1;33m\u001b[0m\u001b[0m\n\u001b[0;32m    408\u001b[0m                 \u001b[0mobserved\u001b[0m\u001b[1;33m=\u001b[0m\u001b[0mobserved\u001b[0m\u001b[1;33m,\u001b[0m\u001b[1;33m\u001b[0m\u001b[1;33m\u001b[0m\u001b[0m\n\u001b[1;32m--> 409\u001b[1;33m                 \u001b[0mmutated\u001b[0m\u001b[1;33m=\u001b[0m\u001b[0mself\u001b[0m\u001b[1;33m.\u001b[0m\u001b[0mmutated\u001b[0m\u001b[1;33m,\u001b[0m\u001b[1;33m\u001b[0m\u001b[1;33m\u001b[0m\u001b[0m\n\u001b[0m\u001b[0;32m    410\u001b[0m             )\n\u001b[0;32m    411\u001b[0m \u001b[1;33m\u001b[0m\u001b[0m\n",
      "\u001b[1;32m~\\Anaconda3\\lib\\site-packages\\pandas\\core\\groupby\\grouper.py\u001b[0m in \u001b[0;36mget_grouper\u001b[1;34m(obj, key, axis, level, sort, observed, mutated, validate)\u001b[0m\n\u001b[0;32m    596\u001b[0m                 \u001b[0min_axis\u001b[0m\u001b[1;33m,\u001b[0m \u001b[0mname\u001b[0m\u001b[1;33m,\u001b[0m \u001b[0mlevel\u001b[0m\u001b[1;33m,\u001b[0m \u001b[0mgpr\u001b[0m \u001b[1;33m=\u001b[0m \u001b[1;32mFalse\u001b[0m\u001b[1;33m,\u001b[0m \u001b[1;32mNone\u001b[0m\u001b[1;33m,\u001b[0m \u001b[0mgpr\u001b[0m\u001b[1;33m,\u001b[0m \u001b[1;32mNone\u001b[0m\u001b[1;33m\u001b[0m\u001b[1;33m\u001b[0m\u001b[0m\n\u001b[0;32m    597\u001b[0m             \u001b[1;32melse\u001b[0m\u001b[1;33m:\u001b[0m\u001b[1;33m\u001b[0m\u001b[1;33m\u001b[0m\u001b[0m\n\u001b[1;32m--> 598\u001b[1;33m                 \u001b[1;32mraise\u001b[0m \u001b[0mKeyError\u001b[0m\u001b[1;33m(\u001b[0m\u001b[0mgpr\u001b[0m\u001b[1;33m)\u001b[0m\u001b[1;33m\u001b[0m\u001b[1;33m\u001b[0m\u001b[0m\n\u001b[0m\u001b[0;32m    599\u001b[0m         \u001b[1;32melif\u001b[0m \u001b[0misinstance\u001b[0m\u001b[1;33m(\u001b[0m\u001b[0mgpr\u001b[0m\u001b[1;33m,\u001b[0m \u001b[0mGrouper\u001b[0m\u001b[1;33m)\u001b[0m \u001b[1;32mand\u001b[0m \u001b[0mgpr\u001b[0m\u001b[1;33m.\u001b[0m\u001b[0mkey\u001b[0m \u001b[1;32mis\u001b[0m \u001b[1;32mnot\u001b[0m \u001b[1;32mNone\u001b[0m\u001b[1;33m:\u001b[0m\u001b[1;33m\u001b[0m\u001b[1;33m\u001b[0m\u001b[0m\n\u001b[0;32m    600\u001b[0m             \u001b[1;31m# Add key to exclusions\u001b[0m\u001b[1;33m\u001b[0m\u001b[1;33m\u001b[0m\u001b[1;33m\u001b[0m\u001b[0m\n",
      "\u001b[1;31mKeyError\u001b[0m: 'perfFlag'"
     ]
    }
   ],
   "source": [
    "df = x.groupby(['perfFlag', 'Retained']).mean()"
   ]
  },
  {
   "cell_type": "code",
   "execution_count": null,
   "metadata": {
    "collapsed": false,
    "jupyter": {
     "outputs_hidden": false
    },
    "pycharm": {
     "name": "#%%\n"
    }
   },
   "outputs": [],
   "source": [
    "scale1 = x[['PScale01_Q1','PScale01_Q2','PScale01_Q3','PScale01_Q4']]\n",
    "scale1['PScale01_Q2_Rev'] = scale1['PScale01_Q2'].apply(lambda x: 5 -x)\n",
    "scale1['PScale01_Q3_Rev'] = scale1['PScale01_Q3'].apply(lambda x: 5 -x)\n",
    "scale1['average_S1'] = (scale1['PScale01_Q1'] + scale1['PScale01_Q2_Rev'] + scale1['PScale01_Q3_Rev'] + scale1['PScale01_Q4']) / 4"
   ]
  },
  {
   "cell_type": "code",
   "execution_count": null,
   "metadata": {
    "collapsed": false,
    "jupyter": {
     "outputs_hidden": false
    },
    "pycharm": {
     "name": "#%%\n"
    }
   },
   "outputs": [],
   "source": [
    "scale2 = x[['PScale02_Q1', 'PScale02_Q2', 'PScale02_Q3', 'PScale02_Q4']]\n",
    "scale2['PScale02_Q2_Rev'] = scale2['PScale02_Q2'].apply(lambda x: 5 -x)\n",
    "scale2['average_S2'] = (scale2['PScale02_Q1'] + scale2['PScale02_Q2_Rev'] + scale2['PScale02_Q3'] + scale2['PScale02_Q4']) / 4"
   ]
  },
  {
   "cell_type": "code",
   "execution_count": null,
   "metadata": {
    "collapsed": false,
    "jupyter": {
     "outputs_hidden": false
    },
    "pycharm": {
     "name": "#%%\n"
    }
   },
   "outputs": [],
   "source": [
    "scale3 = x[['PScale03_Q1', 'PScale03_Q2', 'PScale03_Q3', 'PScale03_Q4']]\n",
    "scale3['PScale03_Q1_Rev'] = scale3['PScale03_Q1'].apply(lambda x: 5 -x)\n",
    "scale3['average_S3'] = (scale3['PScale03_Q1_Rev'] + scale3['PScale03_Q2'] + scale3['PScale03_Q3'] + scale3['PScale03_Q4']) / 4"
   ]
  },
  {
   "cell_type": "code",
   "execution_count": null,
   "metadata": {
    "collapsed": false,
    "jupyter": {
     "outputs_hidden": false
    },
    "pycharm": {
     "name": "#%%\n"
    }
   },
   "outputs": [],
   "source": [
    "scale4 = x[['PScale04_Q1', 'PScale04_Q2', 'PScale04_Q3', 'PScale04_Q4']]\n",
    "scale4['PScale04_Q1_Rev'] = scale4['PScale04_Q1'].apply(lambda x: 5 -x)\n",
    "scale4['average_S4'] = (scale4['PScale04_Q1_Rev'] + scale4['PScale04_Q2'] + scale4['PScale04_Q3'] + scale4['PScale04_Q4']) / 4"
   ]
  },
  {
   "cell_type": "code",
   "execution_count": null,
   "metadata": {
    "collapsed": false,
    "jupyter": {
     "outputs_hidden": false
    },
    "pycharm": {
     "name": "#%%\n"
    }
   },
   "outputs": [],
   "source": [
    "scale5 = x[['PScale05_Q1', 'PScale05_Q2', 'PScale05_Q3', 'PScale05_Q4']]\n",
    "scale5['average_S5'] = (scale5['PScale05_Q1'] + scale5['PScale05_Q2'] + scale5['PScale05_Q3'] + scale5['PScale05_Q4']) / 4"
   ]
  },
  {
   "cell_type": "code",
   "execution_count": null,
   "metadata": {
    "collapsed": false,
    "jupyter": {
     "outputs_hidden": false
    },
    "pycharm": {
     "name": "#%%\n"
    }
   },
   "outputs": [],
   "source": [
    "scale6 = x[['PScale06_Q1', 'PScale06_Q2', 'PScale06_Q3', 'PScale06_Q4', 'PScale06_Q5', 'PScale06_Q6']]\n",
    "scale6['PScale06_Q3_Rev'] = scale6['PScale06_Q3'].apply(lambda x: 5 -x)\n",
    "scale6['PScale06_Q6_Rev'] = scale6['PScale06_Q6'].apply(lambda x: 5 -x)\n",
    "scale6['average_S6'] = (scale6['PScale06_Q1'] + scale6['PScale06_Q2'] +\n",
    "                     scale6['PScale06_Q3_Rev'] + scale6['PScale06_Q4'] +\n",
    "                     scale6['PScale06_Q5'] + scale6['PScale06_Q6_Rev']) / 4"
   ]
  },
  {
   "cell_type": "code",
   "execution_count": null,
   "metadata": {
    "collapsed": false,
    "jupyter": {
     "outputs_hidden": false
    },
    "pycharm": {
     "name": "#%%\n"
    }
   },
   "outputs": [],
   "source": [
    "scale7 = x[['PScale07_Q1', 'PScale07_Q2', 'PScale07_Q3', 'PScale07_Q4']]\n",
    "scale7['PScale07_Q2_Rev'] = scale7['PScale07_Q2'].apply(lambda x: 5 -x)\n",
    "scale7['average_S7'] = (scale7['PScale07_Q1'] + scale7['PScale07_Q2_Rev'] + scale7['PScale07_Q3'] + scale7['PScale07_Q4']) / 4"
   ]
  },
  {
   "cell_type": "code",
   "execution_count": null,
   "metadata": {
    "collapsed": false,
    "jupyter": {
     "outputs_hidden": false
    },
    "pycharm": {
     "name": "#%%\n"
    }
   },
   "outputs": [],
   "source": [
    "scale8 = x[['PScale08_Q1', 'PScale08_Q2', 'PScale08_Q3', 'PScale08_Q4']]\n",
    "scale8['PScale08_Q1_Rev'] = scale8['PScale08_Q1'].apply(lambda x: 5 -x)\n",
    "scale8['PScale08_Q3_Rev'] = scale8['PScale08_Q3'].apply(lambda x: 5 -x)\n",
    "scale8['average_S8'] = (scale8['PScale08_Q1_Rev'] + scale8['PScale08_Q2']\n",
    "                     + scale8['PScale08_Q3_Rev'] + scale8['PScale08_Q4']) / 4"
   ]
  },
  {
   "cell_type": "code",
   "execution_count": null,
   "metadata": {
    "collapsed": false,
    "jupyter": {
     "outputs_hidden": false
    },
    "pycharm": {
     "name": "#%%\n"
    }
   },
   "outputs": [],
   "source": [
    "scale9 = x[['PScale09_Q1', 'PScale09_Q2', 'PScale09_Q3', 'PScale09_Q4']]\n",
    "scale9['PScale09_Q2_Rev'] = scale9['PScale09_Q2'].apply(lambda x: 5 -x)\n",
    "scale9['average_S9'] = (scale9['PScale09_Q1'] + scale9['PScale09_Q2_Rev']\n",
    "                     + scale9['PScale09_Q3'] + scale9['PScale09_Q4']) / 4"
   ]
  },
  {
   "cell_type": "code",
   "execution_count": null,
   "metadata": {
    "collapsed": false,
    "jupyter": {
     "outputs_hidden": false
    },
    "pycharm": {
     "name": "#%%\n"
    }
   },
   "outputs": [],
   "source": [
    "scale10 = x[['PScale10_Q1', 'PScale10_Q2', 'PScale10_Q3', 'PScale10_Q4']]\n",
    "scale10['PScale10_Q3_Rev'] = scale10['PScale10_Q3'].apply(lambda x: 5 -x)\n",
    "scale10['PScale10_Q4_Rev'] = scale10['PScale10_Q4'].apply(lambda x: 5 -x)\n",
    "scale10['average_S10'] = (scale10['PScale10_Q1'] + scale10['PScale10_Q2']\n",
    "                     + scale10['PScale10_Q3_Rev'] + scale10['PScale10_Q4_Rev']) / 4\n"
   ]
  },
  {
   "cell_type": "code",
   "execution_count": null,
   "metadata": {
    "collapsed": false,
    "jupyter": {
     "outputs_hidden": false
    },
    "pycharm": {
     "name": "#%%\n"
    }
   },
   "outputs": [],
   "source": [
    "scale11 = x[['PScale11_Q1', 'PScale11_Q2', 'PScale11_Q3', 'PScale11_Q4']]\n",
    "scale11['PScale11_Q2_Rev'] = scale11['PScale11_Q2'].apply(lambda x: 5 -x)\n",
    "scale11['PScale11_Q3_Rev'] = scale11['PScale11_Q3'].apply(lambda x: 5 -x)\n",
    "scale11['average_S11'] = (scale11['PScale11_Q1'] + scale11['PScale11_Q2_Rev']\n",
    "                     + scale11['PScale11_Q3_Rev'] + scale11['PScale11_Q4']) / 4"
   ]
  },
  {
   "cell_type": "code",
   "execution_count": null,
   "metadata": {
    "collapsed": false,
    "jupyter": {
     "outputs_hidden": false
    },
    "pycharm": {
     "name": "#%%\n"
    }
   },
   "outputs": [],
   "source": [
    "scale12 = x[['PScale12_Q1', 'PScale12_Q2', 'PScale12_Q3', 'PScale12_Q4']]\n",
    "scale12['PScale12_Q3_Rev'] = scale12['PScale12_Q3'].apply(lambda x: 5 -x)\n",
    "scale12['PScale12_Q4_Rev'] = scale12['PScale12_Q4'].apply(lambda x: 5 -x)\n",
    "scale12['average_S12'] = (scale12['PScale12_Q1'] + scale12['PScale12_Q2']\n",
    "                     + scale12['PScale12_Q3_Rev'] + scale12['PScale12_Q4_Rev']) / 4"
   ]
  },
  {
   "cell_type": "code",
   "execution_count": null,
   "metadata": {
    "collapsed": false,
    "jupyter": {
     "outputs_hidden": false
    },
    "pycharm": {
     "name": "#%%\n"
    }
   },
   "outputs": [],
   "source": [
    "scale13 = x[['PScale13_Q1', 'PScale13_Q2', 'PScale13_Q3', 'PScale13_Q4', 'PScale13_Q5']]\n",
    "scale13['PScale13_Q3_Rev'] = scale13['PScale13_Q3'].apply(lambda x: 5 -x)\n",
    "scale13['PScale13_Q4_Rev'] = scale13['PScale13_Q4'].apply(lambda x: 5 -x)\n",
    "scale13['average_S13'] = (scale13['PScale13_Q1'] + scale13['PScale13_Q2']\n",
    "                     + scale13['PScale13_Q3_Rev'] + scale13['PScale13_Q4_Rev'] +\n",
    "                      scale13['PScale13_Q5']) / 4"
   ]
  },
  {
   "cell_type": "code",
   "execution_count": null,
   "metadata": {
    "collapsed": false,
    "jupyter": {
     "outputs_hidden": false
    },
    "pycharm": {
     "name": "#%%\n"
    }
   },
   "outputs": [],
   "source": [
    "out = pd.concat([scale1['average_S1'], scale2['average_S2'], scale3['average_S3'], scale4['average_S4'],\n",
    "                 scale5['average_S5'], scale6['average_S6'], scale7['average_S7'], scale8['average_S8'],\n",
    "                 scale9['average_S9'], scale10['average_S10'], scale11['average_S11'], scale12['average_S12'],\n",
    "                 scale13['average_S13']], axis=1)"
   ]
  },
  {
   "cell_type": "code",
   "execution_count": null,
   "metadata": {
    "collapsed": false,
    "jupyter": {
     "outputs_hidden": false
    },
    "pycharm": {
     "name": "#%%\n"
    }
   },
   "outputs": [],
   "source": [
    "df2 = x[['perfFlag', 'Retained']].join(out)"
   ]
  },
  {
   "cell_type": "code",
   "execution_count": null,
   "metadata": {
    "collapsed": false,
    "jupyter": {
     "outputs_hidden": false
    },
    "pycharm": {
     "name": "#%%\n"
    }
   },
   "outputs": [],
   "source": [
    "df3 = df2.groupby(['perfFlag', 'Retained']).mean()"
   ]
  },
  {
   "cell_type": "code",
   "execution_count": null,
   "metadata": {
    "collapsed": false,
    "jupyter": {
     "outputs_hidden": false
    },
    "pycharm": {
     "name": "#%%\n"
    }
   },
   "outputs": [],
   "source": [
    "df2.isnull().sum().sum()"
   ]
  },
  {
   "cell_type": "code",
   "execution_count": null,
   "metadata": {
    "collapsed": false,
    "jupyter": {
     "outputs_hidden": false
    },
    "pycharm": {
     "name": "#%%\n"
    }
   },
   "outputs": [],
   "source": [
    "df2.isnull().sum()"
   ]
  },
  {
   "cell_type": "code",
   "execution_count": null,
   "metadata": {
    "collapsed": false,
    "jupyter": {
     "outputs_hidden": false
    },
    "pycharm": {
     "name": "#%%\n"
    }
   },
   "outputs": [],
   "source": [
    "df3\n",
    "\n"
   ]
  },
  {
   "cell_type": "code",
   "execution_count": null,
   "metadata": {
    "collapsed": false,
    "jupyter": {
     "outputs_hidden": false
    },
    "pycharm": {
     "name": "#%%\n"
    }
   },
   "outputs": [],
   "source": [
    "\n"
   ]
  }
 ],
 "metadata": {
  "kernelspec": {
   "display_name": "Python 3",
   "language": "python",
   "name": "python3"
  },
  "language_info": {
   "codemirror_mode": {
    "name": "ipython",
    "version": 3
   },
   "file_extension": ".py",
   "mimetype": "text/x-python",
   "name": "python",
   "nbconvert_exporter": "python",
   "pygments_lexer": "ipython3",
   "version": "3.7.6"
  }
 },
 "nbformat": 4,
 "nbformat_minor": 4
}
