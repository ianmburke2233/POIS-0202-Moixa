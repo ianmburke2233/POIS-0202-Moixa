{
 "cells": [
  {
   "cell_type": "code",
   "execution_count": 17,
   "metadata": {},
   "outputs": [],
   "source": [
    "import pandas as pd\n",
    "import re"
   ]
  },
  {
   "cell_type": "code",
   "execution_count": 6,
   "metadata": {},
   "outputs": [],
   "source": [
    "train_filename = 'updatedTrainingData'  # Name of the file used to train the model\n",
    "test_filename = 'DevelopmentData'  # Name of the file used to test the model\n",
    "label = 'UNIQUE_ID'  # Name of the column providing row labels (e.g. Name, ID number, Client Number)\n",
    "first_feat_index = 9  # Column index of the first feature\n",
    "feat_start = 0\n",
    "last_feat_index = -1  # Column index of the last feature\n",
    "target_var = 'Retained'  # Name of the target column\n",
    "prot_var = 'Protected_Group'  # Name of the protected group column"
   ]
  },
  {
   "cell_type": "code",
   "execution_count": 7,
   "metadata": {},
   "outputs": [],
   "source": [
    "train_data = pd.read_csv('Data/{}.csv'.format(train_filename))\n",
    "test_data = pd.read_csv('Data/{}.csv'.format(test_filename))\n",
    "test_data = test_data.fillna(test_data.mean())\n",
    "labels = train_data[label]\n",
    "target = train_data[target_var]\n",
    "prot_group = train_data[prot_var]\n",
    "high_perf = train_data[\"High_Performer\"].dropna()\n",
    "retained = train_data[\"Retained\"]\n",
    "test_labels = test_data[label]"
   ]
  },
  {
   "cell_type": "code",
   "execution_count": 10,
   "metadata": {},
   "outputs": [
    {
     "data": {
      "text/plain": [
       "Index(['UNIQUE_ID', 'Overall_Rating', 'Technical_Skills', 'Teamwork',\n",
       "       'Customer_Service', 'Hire_Again', 'High_Performer', 'Protected_Group',\n",
       "       'Retained', 'SJ_Most_1',\n",
       "       ...\n",
       "       'SJ_Most_9_Results', 'SJ_Least_1_Results', 'SJ_Least_2_Results',\n",
       "       'SJ_Least_3_Results', 'SJ_Least_4_Results', 'SJ_Least_5_Results',\n",
       "       'SJ_Least_6_Results', 'SJ_Least_7_Results', 'SJ_Least_8_Results',\n",
       "       'SJ_Least_9_Results'],\n",
       "      dtype='object', length=164)"
      ]
     },
     "execution_count": 10,
     "metadata": {},
     "output_type": "execute_result"
    }
   ],
   "source": [
    "train_data.columns"
   ]
  },
  {
   "cell_type": "code",
   "execution_count": 18,
   "metadata": {},
   "outputs": [],
   "source": [
    "def filter_cols(df, regex):\n",
    "    rec = re.compile(regex)\n",
    "    cols = list(df.columns)\n",
    "    to_drop = [col for col in cols if rec.match(col)]\n",
    "    new_df = df.drop(to_drop, axis=1)\n",
    "    return new_df"
   ]
  },
  {
   "cell_type": "code",
   "execution_count": 21,
   "metadata": {},
   "outputs": [],
   "source": [
    "def filter_cols_multi(df, lst):\n",
    "    for regex in lst:\n",
    "        df = filter_cols(df, regex)\n",
    "    return df\n"
   ]
  },
  {
   "cell_type": "code",
   "execution_count": 19,
   "metadata": {},
   "outputs": [],
   "source": [
    "test = pd.DataFrame({'a': [1,2,3], 'b00': [4,5,6], 'bab': [7,8,9]})"
   ]
  },
  {
   "cell_type": "code",
   "execution_count": 22,
   "metadata": {},
   "outputs": [
    {
     "data": {
      "text/html": [
       "<div>\n",
       "<style scoped>\n",
       "    .dataframe tbody tr th:only-of-type {\n",
       "        vertical-align: middle;\n",
       "    }\n",
       "\n",
       "    .dataframe tbody tr th {\n",
       "        vertical-align: top;\n",
       "    }\n",
       "\n",
       "    .dataframe thead th {\n",
       "        text-align: right;\n",
       "    }\n",
       "</style>\n",
       "<table border=\"1\" class=\"dataframe\">\n",
       "  <thead>\n",
       "    <tr style=\"text-align: right;\">\n",
       "      <th></th>\n",
       "      <th>a</th>\n",
       "    </tr>\n",
       "  </thead>\n",
       "  <tbody>\n",
       "    <tr>\n",
       "      <th>0</th>\n",
       "      <td>1</td>\n",
       "    </tr>\n",
       "    <tr>\n",
       "      <th>1</th>\n",
       "      <td>2</td>\n",
       "    </tr>\n",
       "    <tr>\n",
       "      <th>2</th>\n",
       "      <td>3</td>\n",
       "    </tr>\n",
       "  </tbody>\n",
       "</table>\n",
       "</div>"
      ],
      "text/plain": [
       "   a\n",
       "0  1\n",
       "1  2\n",
       "2  3"
      ]
     },
     "execution_count": 22,
     "metadata": {},
     "output_type": "execute_result"
    }
   ],
   "source": [
    "filter_cols_multi(test, [r'b..'])"
   ]
  },
  {
   "cell_type": "code",
   "execution_count": null,
   "metadata": {},
   "outputs": [],
   "source": [
    "any()"
   ]
  }
 ],
 "metadata": {
  "kernelspec": {
   "display_name": "Python 3",
   "language": "python",
   "name": "python3"
  },
  "language_info": {
   "codemirror_mode": {
    "name": "ipython",
    "version": 3
   },
   "file_extension": ".py",
   "mimetype": "text/x-python",
   "name": "python",
   "nbconvert_exporter": "python",
   "pygments_lexer": "ipython3",
   "version": "3.7.6"
  }
 },
 "nbformat": 4,
 "nbformat_minor": 4
}
